{
  "nbformat": 4,
  "nbformat_minor": 0,
  "metadata": {
    "colab": {
      "name": "Untitled55.ipynb",
      "provenance": [],
      "include_colab_link": true
    },
    "kernelspec": {
      "name": "python3",
      "display_name": "Python 3"
    },
    "language_info": {
      "name": "python"
    }
  },
  "cells": [
    {
      "cell_type": "markdown",
      "metadata": {
        "id": "view-in-github",
        "colab_type": "text"
      },
      "source": [
        "<a href=\"https://colab.research.google.com/github/kallol-kashyap/beginnerwork/blob/main/Untitled55.ipynb\" target=\"_parent\"><img src=\"https://colab.research.google.com/assets/colab-badge.svg\" alt=\"Open In Colab\"/></a>"
      ]
    },
    {
      "cell_type": "code",
      "metadata": {
        "colab": {
          "base_uri": "https://localhost:8080/"
        },
        "id": "OEAOuMuwcL29",
        "outputId": "eb2ff389-4998-4643-94f2-10484e1c7106"
      },
      "source": [
        "print(\"hello mAIB\") # print statement "
      ],
      "execution_count": null,
      "outputs": [
        {
          "output_type": "stream",
          "text": [
            "hello mAIB\n"
          ],
          "name": "stdout"
        }
      ]
    },
    {
      "cell_type": "markdown",
      "metadata": {
        "id": "JeSc33j4ccNm"
      },
      "source": [
        "Python Tutorial for MAIB"
      ]
    },
    {
      "cell_type": "code",
      "metadata": {
        "colab": {
          "base_uri": "https://localhost:8080/"
        },
        "id": "QLrZFuFHcU9t",
        "outputId": "b9ba2af6-41e3-4b99-b19a-2f1220823052"
      },
      "source": [
        "# 1. Comments \n",
        "\n",
        "# sample comment being outputed \n",
        "print(\"sample comment \")"
      ],
      "execution_count": null,
      "outputs": [
        {
          "output_type": "stream",
          "text": [
            "sample comment \n"
          ],
          "name": "stdout"
        }
      ]
    },
    {
      "cell_type": "code",
      "metadata": {
        "colab": {
          "base_uri": "https://localhost:8080/"
        },
        "id": "MGJvEW1AcVCR",
        "outputId": "a7e2e8bb-b21d-4665-e5fa-9f9d8d2705af"
      },
      "source": [
        "2+3"
      ],
      "execution_count": null,
      "outputs": [
        {
          "output_type": "execute_result",
          "data": {
            "text/plain": [
              "5"
            ]
          },
          "metadata": {
            "tags": []
          },
          "execution_count": 5
        }
      ]
    },
    {
      "cell_type": "code",
      "metadata": {
        "colab": {
          "base_uri": "https://localhost:8080/"
        },
        "id": "aE1n5fL-cVGV",
        "outputId": "894b6ca1-8181-42ea-da16-d9ab2078af0f"
      },
      "source": [
        "30/4\n"
      ],
      "execution_count": null,
      "outputs": [
        {
          "output_type": "execute_result",
          "data": {
            "text/plain": [
              "7.5"
            ]
          },
          "metadata": {
            "tags": []
          },
          "execution_count": 8
        }
      ]
    },
    {
      "cell_type": "code",
      "metadata": {
        "colab": {
          "base_uri": "https://localhost:8080/"
        },
        "id": "4T9Lp0SmcVI_",
        "outputId": "2b484f23-2d24-4ff2-c596-2b62553e8d9e"
      },
      "source": [
        "10//3.   # floor division - removing the decimal value "
      ],
      "execution_count": null,
      "outputs": [
        {
          "output_type": "execute_result",
          "data": {
            "text/plain": [
              "3"
            ]
          },
          "metadata": {
            "tags": []
          },
          "execution_count": 10
        }
      ]
    },
    {
      "cell_type": "code",
      "metadata": {
        "colab": {
          "base_uri": "https://localhost:8080/"
        },
        "id": "LJzmDjilgx_0",
        "outputId": "53009e1f-84c6-4343-b917-4e9947c6fa9f"
      },
      "source": [
        "2**4"
      ],
      "execution_count": null,
      "outputs": [
        {
          "output_type": "execute_result",
          "data": {
            "text/plain": [
              "16"
            ]
          },
          "metadata": {
            "tags": []
          },
          "execution_count": 13
        }
      ]
    },
    {
      "cell_type": "code",
      "metadata": {
        "id": "t-fuGO9ngyDg"
      },
      "source": [
        "(-5)**2 # -5 * -5"
      ],
      "execution_count": null,
      "outputs": []
    },
    {
      "cell_type": "code",
      "metadata": {
        "id": "DL-pbDuYgyGF"
      },
      "source": [
        " # variables "
      ],
      "execution_count": null,
      "outputs": []
    },
    {
      "cell_type": "code",
      "metadata": {
        "colab": {
          "base_uri": "https://localhost:8080/"
        },
        "id": "_E6X7KIxgyWb",
        "outputId": "f391a14e-b473-467b-9b1b-5f7995888647"
      },
      "source": [
        "# addition \n",
        "number1 = 4 \n",
        "number2 = 5\n",
        "print(number1 + number2) # print( 4 + 5 )"
      ],
      "execution_count": null,
      "outputs": [
        {
          "output_type": "stream",
          "text": [
            "9\n"
          ],
          "name": "stdout"
        }
      ]
    },
    {
      "cell_type": "code",
      "metadata": {
        "colab": {
          "base_uri": "https://localhost:8080/"
        },
        "id": "CB2fxNangyZg",
        "outputId": "52365e17-3dcf-4afb-cf31-4a449f0ceb90"
      },
      "source": [
        "length = 4\n",
        "width = 10 \n",
        "area = length * width \n",
        "print(area)"
      ],
      "execution_count": null,
      "outputs": [
        {
          "output_type": "stream",
          "text": [
            "40\n"
          ],
          "name": "stdout"
        }
      ]
    },
    {
      "cell_type": "code",
      "metadata": {
        "colab": {
          "base_uri": "https://localhost:8080/"
        },
        "id": "mEAQB34IcVLp",
        "outputId": "d4d91506-b254-486b-c35e-5140942cbb2c"
      },
      "source": [
        "20%5 # modulo operator - remainder "
      ],
      "execution_count": null,
      "outputs": [
        {
          "output_type": "execute_result",
          "data": {
            "text/plain": [
              "0"
            ]
          },
          "metadata": {
            "tags": []
          },
          "execution_count": 12
        }
      ]
    },
    {
      "cell_type": "code",
      "metadata": {
        "id": "rzHryH4kjfhp"
      },
      "source": [
        "a,b,c = 4,1,5"
      ],
      "execution_count": null,
      "outputs": []
    },
    {
      "cell_type": "code",
      "metadata": {
        "id": "EFE43hBwjflZ"
      },
      "source": [
        "x = 10 \n",
        "x = x +1 # x = 10 + 1 = 11 - not proper way \n",
        "x += 1  # x += 1==>   x = x + 1 - thhis is the proper way "
      ],
      "execution_count": null,
      "outputs": []
    },
    {
      "cell_type": "code",
      "metadata": {
        "colab": {
          "base_uri": "https://localhost:8080/"
        },
        "id": "qIfJ5Qsdjfzj",
        "outputId": "34ff2dc6-fd71-4d53-dd01-636f50caec1c"
      },
      "source": [
        "# comparison operators \n",
        "\n",
        "#> < >= <= != 2==5\n",
        "\n",
        "2 < 4 <10 "
      ],
      "execution_count": null,
      "outputs": [
        {
          "output_type": "execute_result",
          "data": {
            "text/plain": [
              "True"
            ]
          },
          "metadata": {
            "tags": []
          },
          "execution_count": 20
        }
      ]
    },
    {
      "cell_type": "code",
      "metadata": {
        "colab": {
          "base_uri": "https://localhost:8080/"
        },
        "id": "9XwNXR3hlezb",
        "outputId": "f0f7eca7-75d8-4123-c37b-87fef8e9a8d7"
      },
      "source": [
        "# not equal to \n",
        "( 4 + 6) == ( 5 + 5 )"
      ],
      "execution_count": null,
      "outputs": [
        {
          "output_type": "execute_result",
          "data": {
            "text/plain": [
              "True"
            ]
          },
          "metadata": {
            "tags": []
          },
          "execution_count": 25
        }
      ]
    },
    {
      "cell_type": "code",
      "metadata": {
        "colab": {
          "base_uri": "https://localhost:8080/"
        },
        "id": "6HBYUx4ule3Z",
        "outputId": "88aa299a-f5be-40a3-bd8d-795e9534420b"
      },
      "source": [
        "# maximum value \n",
        "max(1,2,3,10,15,20)\n",
        "min(3,10,15,20)"
      ],
      "execution_count": null,
      "outputs": [
        {
          "output_type": "execute_result",
          "data": {
            "text/plain": [
              "3"
            ]
          },
          "metadata": {
            "tags": []
          },
          "execution_count": 29
        }
      ]
    },
    {
      "cell_type": "code",
      "metadata": {
        "colab": {
          "base_uri": "https://localhost:8080/"
        },
        "id": "VA34R2Rdle7J",
        "outputId": "26bdd5c9-12f7-422a-9eb3-73227f0dbc3b"
      },
      "source": [
        "4 >= 10"
      ],
      "execution_count": null,
      "outputs": [
        {
          "output_type": "execute_result",
          "data": {
            "text/plain": [
              "False"
            ]
          },
          "metadata": {
            "tags": []
          },
          "execution_count": 32
        }
      ]
    },
    {
      "cell_type": "code",
      "metadata": {
        "colab": {
          "base_uri": "https://localhost:8080/"
        },
        "id": "DAuP3mnXle-A",
        "outputId": "c5a0cebe-84da-46f8-c29e-9c68e493ccdf"
      },
      "source": [
        "not(1 > 2 or 0< 1) \n",
        "\n",
        "# true and true"
      ],
      "execution_count": null,
      "outputs": [
        {
          "output_type": "execute_result",
          "data": {
            "text/plain": [
              "False"
            ]
          },
          "metadata": {
            "tags": []
          },
          "execution_count": 38
        }
      ]
    },
    {
      "cell_type": "code",
      "metadata": {
        "colab": {
          "base_uri": "https://localhost:8080/"
        },
        "id": "bHZshplylfAy",
        "outputId": "68fde66e-942a-4484-8bcb-20aea800061b"
      },
      "source": [
        "i = 7\n",
        "\n",
        "  #1 false   or not     (   true and false )\n",
        "  #2 falsr   or not.     (FALSE )\n",
        "  #3 ( false ) or (true )\n",
        "  #4 true  \n",
        "( i == 2) or not ( i%2 != 0 and 1<i<5)\n",
        " # false            7%2 = 1 ! = 0 == true and false  \n"
      ],
      "execution_count": null,
      "outputs": [
        {
          "output_type": "execute_result",
          "data": {
            "text/plain": [
              "True"
            ]
          },
          "metadata": {
            "tags": []
          },
          "execution_count": 39
        }
      ]
    },
    {
      "cell_type": "code",
      "metadata": {
        "colab": {
          "base_uri": "https://localhost:8080/"
        },
        "id": "NfTEyl0drdp2",
        "outputId": "8b553b12-5a22-4f53-c9c1-049049d137f3"
      },
      "source": [
        "# strings : collection of characters : \n",
        "\n",
        "\n",
        "string1 = \"Hello MAIB\"\n",
        "print(string1[1])"
      ],
      "execution_count": null,
      "outputs": [
        {
          "output_type": "stream",
          "text": [
            "e\n"
          ],
          "name": "stdout"
        }
      ]
    },
    {
      "cell_type": "code",
      "metadata": {
        "id": "ZMoHiKBKrdue"
      },
      "source": [
        ""
      ],
      "execution_count": null,
      "outputs": []
    },
    {
      "cell_type": "code",
      "metadata": {
        "id": "TijWDf0frdxk"
      },
      "source": [
        ""
      ],
      "execution_count": null,
      "outputs": []
    }
  ]
}